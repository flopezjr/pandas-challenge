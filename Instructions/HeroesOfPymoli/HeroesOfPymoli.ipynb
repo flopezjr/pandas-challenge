{
 "cells": [
  {
   "cell_type": "code",
   "execution_count": 1,
   "metadata": {},
   "outputs": [
    {
     "data": {
      "application/javascript": [
       "\n",
       "            setTimeout(function() {\n",
       "                var nbb_cell_id = 1;\n",
       "                var nbb_unformatted_code = \"# Dependencies and Setup\\n%reload_ext nb_black\\nimport pandas as pd\\n\\n# File to Load (Remember to Change These)\\npath = \\\"Resources/purchase_data.csv\\\"\\n\\n# Read Purchasing File and store into Pandas data frame\\ndf = pd.read_csv(path)\";\n",
       "                var nbb_formatted_code = \"# Dependencies and Setup\\n%reload_ext nb_black\\nimport pandas as pd\\n\\n# File to Load (Remember to Change These)\\npath = \\\"Resources/purchase_data.csv\\\"\\n\\n# Read Purchasing File and store into Pandas data frame\\ndf = pd.read_csv(path)\";\n",
       "                var nbb_cells = Jupyter.notebook.get_cells();\n",
       "                for (var i = 0; i < nbb_cells.length; ++i) {\n",
       "                    if (nbb_cells[i].input_prompt_number == nbb_cell_id) {\n",
       "                        if (nbb_cells[i].get_text() == nbb_unformatted_code) {\n",
       "                             nbb_cells[i].set_text(nbb_formatted_code);\n",
       "                        }\n",
       "                        break;\n",
       "                    }\n",
       "                }\n",
       "            }, 500);\n",
       "            "
      ],
      "text/plain": [
       "<IPython.core.display.Javascript object>"
      ]
     },
     "metadata": {},
     "output_type": "display_data"
    }
   ],
   "source": [
    "# Dependencies and Setup\n",
    "%reload_ext nb_black\n",
    "import pandas as pd\n",
    "\n",
    "# File to Load (Remember to Change These)\n",
    "path = \"Resources/purchase_data.csv\"\n",
    "\n",
    "# Read Purchasing File and store into Pandas data frame\n",
    "df = pd.read_csv(path)"
   ]
  },
  {
   "cell_type": "code",
   "execution_count": 2,
   "metadata": {},
   "outputs": [
    {
     "data": {
      "text/html": [
       "<div>\n",
       "<style scoped>\n",
       "    .dataframe tbody tr th:only-of-type {\n",
       "        vertical-align: middle;\n",
       "    }\n",
       "\n",
       "    .dataframe tbody tr th {\n",
       "        vertical-align: top;\n",
       "    }\n",
       "\n",
       "    .dataframe thead th {\n",
       "        text-align: right;\n",
       "    }\n",
       "</style>\n",
       "<table border=\"1\" class=\"dataframe\">\n",
       "  <thead>\n",
       "    <tr style=\"text-align: right;\">\n",
       "      <th></th>\n",
       "      <th>Purchase ID</th>\n",
       "      <th>SN</th>\n",
       "      <th>Age</th>\n",
       "      <th>Gender</th>\n",
       "      <th>Item ID</th>\n",
       "      <th>Item Name</th>\n",
       "      <th>Price</th>\n",
       "    </tr>\n",
       "  </thead>\n",
       "  <tbody>\n",
       "    <tr>\n",
       "      <th>0</th>\n",
       "      <td>0</td>\n",
       "      <td>Lisim78</td>\n",
       "      <td>20</td>\n",
       "      <td>Male</td>\n",
       "      <td>108</td>\n",
       "      <td>Extraction, Quickblade Of Trembling Hands</td>\n",
       "      <td>3.53</td>\n",
       "    </tr>\n",
       "    <tr>\n",
       "      <th>1</th>\n",
       "      <td>1</td>\n",
       "      <td>Lisovynya38</td>\n",
       "      <td>40</td>\n",
       "      <td>Male</td>\n",
       "      <td>143</td>\n",
       "      <td>Frenzied Scimitar</td>\n",
       "      <td>1.56</td>\n",
       "    </tr>\n",
       "    <tr>\n",
       "      <th>2</th>\n",
       "      <td>2</td>\n",
       "      <td>Ithergue48</td>\n",
       "      <td>24</td>\n",
       "      <td>Male</td>\n",
       "      <td>92</td>\n",
       "      <td>Final Critic</td>\n",
       "      <td>4.88</td>\n",
       "    </tr>\n",
       "    <tr>\n",
       "      <th>3</th>\n",
       "      <td>3</td>\n",
       "      <td>Chamassasya86</td>\n",
       "      <td>24</td>\n",
       "      <td>Male</td>\n",
       "      <td>100</td>\n",
       "      <td>Blindscythe</td>\n",
       "      <td>3.27</td>\n",
       "    </tr>\n",
       "    <tr>\n",
       "      <th>4</th>\n",
       "      <td>4</td>\n",
       "      <td>Iskosia90</td>\n",
       "      <td>23</td>\n",
       "      <td>Male</td>\n",
       "      <td>131</td>\n",
       "      <td>Fury</td>\n",
       "      <td>1.44</td>\n",
       "    </tr>\n",
       "  </tbody>\n",
       "</table>\n",
       "</div>"
      ],
      "text/plain": [
       "   Purchase ID             SN  Age Gender  Item ID  \\\n",
       "0            0        Lisim78   20   Male      108   \n",
       "1            1    Lisovynya38   40   Male      143   \n",
       "2            2     Ithergue48   24   Male       92   \n",
       "3            3  Chamassasya86   24   Male      100   \n",
       "4            4      Iskosia90   23   Male      131   \n",
       "\n",
       "                                   Item Name  Price  \n",
       "0  Extraction, Quickblade Of Trembling Hands   3.53  \n",
       "1                          Frenzied Scimitar   1.56  \n",
       "2                               Final Critic   4.88  \n",
       "3                                Blindscythe   3.27  \n",
       "4                                       Fury   1.44  "
      ]
     },
     "execution_count": 2,
     "metadata": {},
     "output_type": "execute_result"
    },
    {
     "data": {
      "application/javascript": [
       "\n",
       "            setTimeout(function() {\n",
       "                var nbb_cell_id = 2;\n",
       "                var nbb_unformatted_code = \"df.head()\";\n",
       "                var nbb_formatted_code = \"df.head()\";\n",
       "                var nbb_cells = Jupyter.notebook.get_cells();\n",
       "                for (var i = 0; i < nbb_cells.length; ++i) {\n",
       "                    if (nbb_cells[i].input_prompt_number == nbb_cell_id) {\n",
       "                        if (nbb_cells[i].get_text() == nbb_unformatted_code) {\n",
       "                             nbb_cells[i].set_text(nbb_formatted_code);\n",
       "                        }\n",
       "                        break;\n",
       "                    }\n",
       "                }\n",
       "            }, 500);\n",
       "            "
      ],
      "text/plain": [
       "<IPython.core.display.Javascript object>"
      ]
     },
     "metadata": {},
     "output_type": "display_data"
    }
   ],
   "source": [
    "df.head()"
   ]
  },
  {
   "cell_type": "markdown",
   "metadata": {},
   "source": [
    "## Player Count"
   ]
  },
  {
   "cell_type": "code",
   "execution_count": null,
   "metadata": {},
   "outputs": [],
   "source": [
    "players = df.groupby(\"SN\").count().shape[0]\n",
    "pd.DataFrame({\"Total Players\": [players]})"
   ]
  },
  {
   "cell_type": "markdown",
   "metadata": {},
   "source": [
    "## Purchasing Analysis (Total)"
   ]
  },
  {
   "cell_type": "code",
   "execution_count": null,
   "metadata": {},
   "outputs": [],
   "source": [
    "#create variables for dataframe\n",
    "\n",
    "unique_items = df[\"Item ID\"].nunique()\n",
    "avg_price = round(df[\"Price\"].mean(), 2)\n",
    "total_purchases = df[\"Purchase ID\"].count()\n",
    "total_revenue = df[\"Price\"].sum()\n",
    "\n",
    "purchase_analysis_df = pd.DataFrame({\n",
    "    \"Number of Unique Items\": [unique_items],\n",
    "    \"Average Price\" : [(f\"${avg_price}\")],\n",
    "    \"Number of Purchases\": [total_purchases],\n",
    "    \"Total Revenue\" : [(f\"${total_revenue}\")]\n",
    "})\n",
    "purchase_analysis_df"
   ]
  },
  {
   "cell_type": "markdown",
   "metadata": {},
   "source": [
    "## Gender Demographics"
   ]
  },
  {
   "cell_type": "code",
   "execution_count": null,
   "metadata": {},
   "outputs": [],
   "source": [
    "gender_df = df[[\"SN\", \"Gender\"]]\n",
    "gender_df = gender_df.drop_duplicates(subset=[\"SN\"])\n",
    "\n",
    "#count each gender \n",
    "unique_gender_count = gender_df.groupby([\"Gender\"])[\"Gender\"].count()\n",
    "\n",
    "#calculate percentages\n",
    "gender_percent = round(unique_gender_count / unique_gender_count.sum() * 100, 2)\n",
    "\n",
    "gender_dems = pd.DataFrame({\n",
    "    \"Total Count\": unique_gender_count,\n",
    "    \"Percentage of Players\": gender_percent\n",
    "})\n",
    "\n",
    "#format percentage\n",
    "gender_dems.style.format({\"Percentage of Players\": \"{:.2f}%\"})"
   ]
  },
  {
   "cell_type": "markdown",
   "metadata": {},
   "source": [
    "## Purchasing Analysis (Gender)"
   ]
  },
  {
   "cell_type": "code",
   "execution_count": null,
   "metadata": {},
   "outputs": [],
   "source": [
    "gender_purchases = df.groupby([\"Gender\"])[\"Gender\"].count()\n",
    "\n",
    "#calculate total purchase each gender\n",
    "gender_total = df.groupby([\"Gender\"])[\"Price\"].sum()\n",
    "\n",
    "#calculate average purchase price for each gender\n",
    "gender_avg = round(gender_total / gender_purchases, 2)\n",
    "\n",
    "per_person_gender = round((gender_total / unique_gender_count), 2)\n",
    "\n",
    "purchase_gender_df = pd.DataFrame({\n",
    "    \"Purchase Count\": gender_purchases,\n",
    "    \"Average Purchase Price\": gender_avg,\n",
    "    \"Total Purchase Value\": gender_total,\n",
    "    \"Avg Total Purchase per Person\": per_person_gender\n",
    "})\n",
    "\n",
    "#format and add dollar signs\n",
    "purchase_gender_df.style.format({\"Average Purchase Price\": \"${:,.2f}\", \n",
    "                          \"Total Purchase Value\": \"${:,.2f}\",\n",
    "                          \"Avg Total Purchase per Person\": \"${:,.2f}\"})"
   ]
  },
  {
   "cell_type": "markdown",
   "metadata": {},
   "source": [
    "## Age Demographics"
   ]
  },
  {
   "cell_type": "code",
   "execution_count": null,
   "metadata": {},
   "outputs": [],
   "source": [
    "df[\"Age Range\"] = pd.cut(\n",
    "    df[\"Age\"], \n",
    "    bins = [0, 9, 14, 19, 24, 29, 34, 39, 45],\n",
    "    labels = [\"<10\", \"10-14\", \"15-19\", \"20-24\", \"25-29\", \"30-34\", \"35-30\", \"40+\"]\n",
    ")\n",
    "\n",
    "#create dataframe with dropped duplicates\n",
    "age_dems_df = df[[\"SN\", \"Age Range\", \"Age\"]]\n",
    "age_dems_df = age_dems_df.drop_duplicates(subset=[\"SN\"])\n",
    "\n",
    "#count by age range\n",
    "age_count = age_dems_df.groupby([\"Age Range\"])[\"Age\"].count()\n",
    "\n",
    "#calculate percentage of age ranges\n",
    "age_percent = round(age_count / age_count.sum() * 100, 2)\n",
    "\n",
    "age_df = pd.DataFrame({\n",
    "    \"Total Count\": age_count,\n",
    "    \"Percentage of Players\": age_percent\n",
    "})\n",
    "\n",
    "#format to add percentage\n",
    "age_df.style.format({\"Percentage of Players\": \"{:.2f}%\"})"
   ]
  },
  {
   "cell_type": "markdown",
   "metadata": {},
   "source": [
    "## Purchasing Analysis (Age)"
   ]
  },
  {
   "cell_type": "code",
   "execution_count": null,
   "metadata": {},
   "outputs": [],
   "source": [
    "#count of purchases by age\n",
    "purchase_count = df.groupby([\"Age Range\"])[\"Purchase ID\"].count()\n",
    "\n",
    "#calculate total purchase value by age\n",
    "total_purchase = df.groupby([\"Age Range\"])[\"Price\"].sum()\n",
    "\n",
    "#calculate average purchase price by age\n",
    "avg_price = round(total_purchase / purchase_count, 2)\n",
    "\n",
    "#find unqiue users within each age range\n",
    "user_age = df.groupby([\"Age Range\"])[\"SN\"].nunique()\n",
    "\n",
    "#calculate avg total purchase per person by age\n",
    "avg_total = round(total_purchase / user_age, 2)\n",
    "\n",
    "purchase_age = pd.DataFrame({\n",
    "    \"Purchase Count\": purchase_count,\n",
    "    \"Average Purchase Price\": avg_price,\n",
    "    \"Total Purchase Value\": total_purchase,\n",
    "    \"Avg Total Purchase per Person\": avg_total\n",
    "})\n",
    "\n",
    "#formatting and add dollar  sign\n",
    "purchase_age.style.format({\"Average Purchase Price\": \"${:,.2f}\", \n",
    "                          \"Total Purchase Value\": \"${:,.2f}\",\n",
    "                          \"Avg Total Purchase per Person\": \"${:,.2f}\"})"
   ]
  },
  {
   "cell_type": "markdown",
   "metadata": {},
   "source": [
    "## Top Spenders"
   ]
  },
  {
   "cell_type": "code",
   "execution_count": null,
   "metadata": {},
   "outputs": [],
   "source": [
    "#count purchases by screen name\n",
    "user_purchase_count = df.groupby([\"SN\"])[\"Purchase ID\"].count()\n",
    "\n",
    "#calculate total purchase value by screen name\n",
    "user_purchase_total = df.groupby([\"SN\"])[\"Price\"].sum()\n",
    "\n",
    "#calculate avg purchase price by screen name\n",
    "user_avg_purchse = round(user_purchase_total / user_purchase_count, 2)\n",
    "\n",
    "top_spenders = pd.DataFrame({\n",
    "    \"Purchase Count\": user_purchase_count,\n",
    "    \"Average Purchase Price\": user_avg_purchse,\n",
    "    \"Total Purchase Value\": user_purchase_total\n",
    "})\n",
    "\n",
    "#sort in descending order and display top 5 spenders\n",
    "sorted_spenders = top_spenders.sort_values(by=[\"Total Purchase Value\"], ascending=False).head(5)\n",
    "\n",
    "#format and add dollar sign\n",
    "sorted_spenders.style.format({\"Average Purchase Price\": \"${:,.2f}\", \n",
    "                          \"Total Purchase Value\": \"${:,.2f}\"})"
   ]
  },
  {
   "cell_type": "markdown",
   "metadata": {},
   "source": [
    "## Most Popular Items"
   ]
  },
  {
   "cell_type": "code",
   "execution_count": null,
   "metadata": {},
   "outputs": [],
   "source": [
    "\n",
    "#create df of purchase information\n",
    "purchase_df = df[[\"Item ID\", \"Item Name\", \"Price\"]]\n",
    "\n",
    "#calculate purchase count\n",
    "purchase_count = purchase_df.groupby([\"Item ID\", \"Item Name\"])[\"Item ID\"].count()\n",
    "\n",
    "#group price by item id and item name\n",
    "item_price = purchase_df.groupby([\"Item ID\", \"Item Name\"])[\"Price\"].mean()\n",
    "\n",
    "#calculate total purchase value\n",
    "total_purchase_value = purchase_df.groupby([\"Item ID\", \"Item Name\"])[\"Price\"].sum()\n",
    "\n",
    "popular_items = pd.DataFrame({\n",
    "    \"Purchase Count\": purchase_count,\n",
    "    \"Item Price\": item_price,\n",
    "    \"Total Purchase Value\": total_purchase_value\n",
    "})\n",
    "\n",
    "#sort dataframe by purchase count to show most popular item \n",
    "sorted_items = popular_items.sort_values(by=[\"Purchase Count\"], ascending=False).head(5)\n",
    "\n",
    "#format and add dollar sign\n",
    "sorted_items.style.format({\"Item Price\": \"${:,.2f}\", \n",
    "                          \"Total Purchase Value\": \"${:,.2f}\"})"
   ]
  },
  {
   "cell_type": "markdown",
   "metadata": {},
   "source": [
    "## Most Profitable Items"
   ]
  },
  {
   "cell_type": "code",
   "execution_count": null,
   "metadata": {},
   "outputs": [],
   "source": [
    "\n",
    "#sort previous table by total purchase value to show most profitable item by price\n",
    "sorted_profit_items = popular_items.sort_values(by=[\"Total Purchase Value\"], ascending=False).head(5)\n",
    "\n",
    "#format and add dollar sign\n",
    "sorted_profit_items.style.format({\"Item Price\": \"${:,.2f}\", \n",
    "                          \"Total Purchase Value\": \"${:,.2f}\"})"
   ]
  },
  {
   "cell_type": "code",
   "execution_count": null,
   "metadata": {},
   "outputs": [],
   "source": []
  }
 ],
 "metadata": {
  "environment": {
   "name": "common-cpu.m54",
   "type": "gcloud",
   "uri": "gcr.io/deeplearning-platform-release/base-cpu:m54"
  },
  "kernelspec": {
   "display_name": "Python 3",
   "language": "python",
   "name": "python3"
  },
  "language_info": {
   "codemirror_mode": {
    "name": "ipython",
    "version": 3
   },
   "file_extension": ".py",
   "mimetype": "text/x-python",
   "name": "python",
   "nbconvert_exporter": "python",
   "pygments_lexer": "ipython3",
   "version": "3.7.8"
  }
 },
 "nbformat": 4,
 "nbformat_minor": 4
}
